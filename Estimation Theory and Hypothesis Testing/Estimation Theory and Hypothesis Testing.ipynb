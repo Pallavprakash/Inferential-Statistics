{
 "cells": [
  {
   "cell_type": "code",
   "execution_count": 5,
   "id": "28c667c2-a730-455f-843e-d722da986694",
   "metadata": {},
   "outputs": [
    {
     "name": "stdout",
     "output_type": "stream",
     "text": [
      "Required Probability: 0.4240069369665028\n"
     ]
    }
   ],
   "source": [
    "#Q1)\n",
    "\n",
    "import scipy.stats as stats\n",
    "mean_pop=60\n",
    "std_dev=66\n",
    "n=40\n",
    "sample_mean=58\n",
    "\n",
    "error= std_dev/(n**0.5)\n",
    "z=(sample_mean-mean_pop)/error\n",
    "\n",
    "probability = stats.norm.cdf(z)\n",
    "print(f\"Required Probability: {probability}\")"
   ]
  },
  {
   "cell_type": "code",
   "execution_count": 8,
   "id": "fe417822-9d12-45f0-a179-ebf1f30f4499",
   "metadata": {},
   "outputs": [
    {
     "name": "stdout",
     "output_type": "stream",
     "text": [
      "Lower bound: 282.4186142480114\n",
      "Upper bound: 337.5813857519886\n"
     ]
    }
   ],
   "source": [
    "#Q2)\n",
    "\n",
    "import scipy.stats as stats\n",
    "avg=310\n",
    "n=40\n",
    "std_dev=89\n",
    "z_critical = 1.96\n",
    "\n",
    "error=std_dev/(n**0.5)\n",
    "\n",
    "error_margin = z_critical * error\n",
    "\n",
    "lower_bound=avg-error_margin\n",
    "upper_bound=avg+error_margin\n",
    "print(f\"Lower bound: {lower_bound}\")\n",
    "print(f\"Upper bound: {upper_bound}\")"
   ]
  },
  {
   "cell_type": "code",
   "execution_count": 10,
   "id": "2b57f1a5-733e-4a13-8705-e0fcba340586",
   "metadata": {},
   "outputs": [],
   "source": [
    "#Q3) \n",
    "\n",
    "# Null Hypothesis: The mean waiting time has not changed from 4.5 minutes (H0: mu = 4.5 minutes).\n",
    "# Alternate Hypothesis: The mean waiting time has changes from 4.5 minutes (h1: mu != 4.5 minutes).\n",
    "\n",
    "# In this case it will be a two-tailed test."
   ]
  },
  {
   "cell_type": "code",
   "execution_count": 11,
   "id": "1088161d-82f4-47cd-a20d-f4873934daa3",
   "metadata": {},
   "outputs": [
    {
     "name": "stdout",
     "output_type": "stream",
     "text": [
      "p-value: 0.04550026389635842\n"
     ]
    }
   ],
   "source": [
    "#Q4) \n",
    "\n",
    "import scipy.stats as stats\n",
    "z_stat = 2.00\n",
    "\n",
    "p_value = 2 * (1-stats.norm.cdf(z_stat)) #Multiplying by two because it is a two tailed test\n",
    "print(f\"p-value: {p_value}\") "
   ]
  },
  {
   "cell_type": "code",
   "execution_count": 12,
   "id": "25248edd-e1fb-4801-85b3-8e27a58b581e",
   "metadata": {},
   "outputs": [
    {
     "data": {
      "text/plain": [
       "(2.5, 0.006209665325776159)"
      ]
     },
     "execution_count": 12,
     "metadata": {},
     "output_type": "execute_result"
    }
   ],
   "source": [
    "#Q5)\n",
    "\n",
    "import scipy.stats as stats\n",
    "sample_mean = 30000 \n",
    "hypothesized_mean = 29000\n",
    "std_dev = 8000\n",
    "n = 400 \n",
    "\n",
    "error = std_dev / (n ** 0.5)\n",
    "z_stat = (sample_mean - hypothesized_mean) / error\n",
    "\n",
    "p_value = 1 - stats.norm.cdf(z_stat)\n",
    "\n",
    "z_stat, p_value"
   ]
  }
 ],
 "metadata": {
  "kernelspec": {
   "display_name": "Python 3 (ipykernel)",
   "language": "python",
   "name": "python3"
  },
  "language_info": {
   "codemirror_mode": {
    "name": "ipython",
    "version": 3
   },
   "file_extension": ".py",
   "mimetype": "text/x-python",
   "name": "python",
   "nbconvert_exporter": "python",
   "pygments_lexer": "ipython3",
   "version": "3.8.20"
  }
 },
 "nbformat": 4,
 "nbformat_minor": 5
}
